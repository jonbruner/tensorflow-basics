{
 "cells": [
  {
   "cell_type": "markdown",
   "metadata": {},
   "source": [
    "# 2: Load\n",
    "\n",
    "Now we'll start with a fresh, clean file and reinstate the model we built in [part 1](save.ipynb). From the end of this document we'll be ready to either continue training or run the model to classify images.\n",
    "\n",
    "We begin by loading the libraries and the MNIST dataset."
   ]
  },
  {
   "cell_type": "code",
   "execution_count": 1,
   "metadata": {
    "collapsed": false
   },
   "outputs": [
    {
     "name": "stdout",
     "output_type": "stream",
     "text": [
      "Extracting MNIST_data/train-images-idx3-ubyte.gz\n",
      "Extracting MNIST_data/train-labels-idx1-ubyte.gz\n",
      "Extracting MNIST_data/t10k-images-idx3-ubyte.gz\n",
      "Extracting MNIST_data/t10k-labels-idx1-ubyte.gz\n"
     ]
    }
   ],
   "source": [
    "%matplotlib inline\n",
    "import matplotlib.pyplot as plt\n",
    "import tensorflow as tf\n",
    "\n",
    "from tensorflow.examples.tutorials.mnist import input_data\n",
    "mnist = input_data.read_data_sets('MNIST_data', one_hot=True)\n",
    "\n",
    "sess = tf.InteractiveSession()"
   ]
  },
  {
   "cell_type": "markdown",
   "metadata": {},
   "source": [
    "## Import the graph\n",
    "\n",
    "The following two lines import the meta graph, which contains all the information we need on the topology of the model and its variables, and then import the checkpoint file, which contains the weights we developed during training. In the second line, we explicitly load the checkpoint data into the current session, the variable `sess`."
   ]
  },
  {
   "cell_type": "code",
   "execution_count": 2,
   "metadata": {
    "collapsed": false
   },
   "outputs": [],
   "source": [
    "new_saver = tf.train.import_meta_graph('saved_mnist_cnn.ckpt.meta')\n",
    "new_saver.restore(sess, 'saved_mnist_cnn.ckpt')"
   ]
  },
  {
   "cell_type": "markdown",
   "metadata": {},
   "source": [
    "We can confirm that this worked by taking a look at the current `GraphDef`. I won't run this in the version of the notebook on Github because the output takes up tons of space, but if you run this at home you'll see all the nodes in the TensorFlow graph represented in a big JSON list."
   ]
  },
  {
   "cell_type": "code",
   "execution_count": null,
   "metadata": {
    "collapsed": false
   },
   "outputs": [],
   "source": [
    "tf.get_default_graph().as_graph_def()"
   ]
  },
  {
   "cell_type": "markdown",
   "metadata": {},
   "source": [
    "## Associate variables\n",
    "\n",
    "Indeed, everything we expect is there in the `GraphDef`. The problem is that we can't just start calling the Python variables we used in the save file: `y_conv` (our output) and `x` and `keep_prob` (our inputs). We first need to define some Python variables and associate them with the TensorFlow nodes that we need handle in order to feed input and retrieve output.\n",
    "\n",
    "We do that like this:"
   ]
  },
  {
   "cell_type": "code",
   "execution_count": 3,
   "metadata": {
    "collapsed": false
   },
   "outputs": [],
   "source": [
    "x = sess.graph.get_tensor_by_name(\"input:0\")\n",
    "y_conv = sess.graph.get_tensor_by_name(\"output:0\")\n",
    "keep_prob = sess.graph.get_tensor_by_name(\"keep_prob:0\")"
   ]
  },
  {
   "cell_type": "markdown",
   "metadata": {},
   "source": [
    "Now `x`, `y_conv`, and `keep_prob` are fully defined Python variables that refer to TensorFlow nodes. They operate just like they did when we left off in part 1.\n",
    "\n",
    "Note that we defined many more nodes than these three back in part 1: `W_conv1`, `b_conv1`, and so on. One cool thing about the way TensorFlow handles these graphs is that you don't need to reinstate any of the intermediate nodes in order to run the model; TensorFlow understands the relationship between them and will run them properly even if they don't have Python variables associated with them.\n",
    "\n",
    "To demonstrate, let's test the model like we did in part 1. Here we take an arbitrary image from the MNIST validation set and display it."
   ]
  },
  {
   "cell_type": "code",
   "execution_count": 4,
   "metadata": {
    "collapsed": false
   },
   "outputs": [
    {
     "data": {
      "text/plain": [
       "<matplotlib.image.AxesImage at 0x105856d10>"
      ]
     },
     "execution_count": 4,
     "metadata": {},
     "output_type": "execute_result"
    },
    {
     "data": {
      "image/png": "[encoded data removed]",
      "text/plain": [
       "<matplotlib.figure.Figure at 0x11be71ed0>"
      ]
     },
     "metadata": {},
     "output_type": "display_data"
    }
   ],
   "source": [
    "image_b = mnist.validation.images[159]\n",
    "plt.imshow(image_b.reshape([28, 28]), cmap='Greys')"
   ]
  },
  {
   "cell_type": "markdown",
   "metadata": {},
   "source": [
    "And now we run the model."
   ]
  },
  {
   "cell_type": "code",
   "execution_count": 5,
   "metadata": {
    "collapsed": false
   },
   "outputs": [
    {
     "name": "stdout",
     "output_type": "stream",
     "text": [
      "[[  3.63468689e-06   3.87002473e-07   9.99598205e-01   1.59243267e-04\n",
      "    8.94278696e-09   4.08969534e-08   2.78706466e-07   1.72356682e-04\n",
      "    6.52213712e-05   8.37815264e-07]]\n",
      "[2]\n"
     ]
    }
   ],
   "source": [
    "image_b = image_b.reshape([1, 784])\n",
    "result = sess.run(y_conv, feed_dict={x:image_b, keep_prob:1})\n",
    "print(result)\n",
    "print(sess.run(tf.argmax(result, 1)))"
   ]
  },
  {
   "cell_type": "markdown",
   "metadata": {},
   "source": [
    "## Confirmed!\n",
    "\n",
    "Now we're back to exactly where we were at the end of [part 1](save.ipynb), at least with respect to the model's inputs and outputs. If we need access to any of the intermediate layers, we can retrieve them and point to them with Python variables like we did with `y_conv`, `x`, and `keep_prob`."
   ]
  }
 ],
 "metadata": {
  "anaconda-cloud": {},
  "kernelspec": {
   "display_name": "Python [Root]",
   "language": "python",
   "name": "Python [Root]"
  },
  "language_info": {
   "codemirror_mode": {
    "name": "ipython",
    "version": 2
   },
   "file_extension": ".py",
   "mimetype": "text/x-python",
   "name": "python",
   "nbconvert_exporter": "python",
   "pygments_lexer": "ipython2",
   "version": "2.7.12"
  }
 },
 "nbformat": 4,
 "nbformat_minor": 0
}
